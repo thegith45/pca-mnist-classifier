{
 "cells": [
  {
   "cell_type": "code",
   "execution_count": 1,
   "id": "85f30e11-6bfa-4106-ad09-8c47a61cd3c8",
   "metadata": {},
   "outputs": [],
   "source": [
    "import time\n",
    "from sklearn.datasets import fetch_openml\n",
    "from sklearn.ensemble import RandomForestClassifier\n",
    "from sklearn.decomposition import PCA\n",
    "from sklearn.model_selection import train_test_split\n",
    "from sklearn.metrics import accuracy_score\n",
    "\n",
    "# Load MNIST dataset\n",
    "mnist = fetch_openml('mnist_784', version=1)\n",
    "X, y = mnist['data'], mnist['target'].astype(int)\n",
    "\n",
    "# Split the dataset into training (60,000) and test (10,000) sets\n",
    "X_train, X_test, y_train, y_test = X[:60000], X[60000:], y[:60000], y[60000:]"
   ]
  },
  {
   "cell_type": "code",
   "execution_count": 2,
   "id": "5b10ba7c-19c9-4729-a397-32a073589eb7",
   "metadata": {},
   "outputs": [
    {
     "name": "stdout",
     "output_type": "stream",
     "text": [
      "Original training time: 6.683 seconds\n",
      "Accuracy on test set (original): 97.05%\n"
     ]
    }
   ],
   "source": [
    "# Train a Random Forest classifier on the original data and time it\n",
    "start_time = time.time()\n",
    "rf = RandomForestClassifier(n_jobs=-1, random_state=42)\n",
    "rf.fit(X_train, y_train)\n",
    "train_time = time.time() - start_time\n",
    "y_pred = rf.predict(X_test)\n",
    "original_accuracy = accuracy_score(y_test, y_pred)\n",
    "\n",
    "print(f\"Original training time: {train_time:.3f} seconds\")\n",
    "print(f\"Accuracy on test set (original): {original_accuracy * 100:.2f}%\")"
   ]
  },
  {
   "cell_type": "code",
   "execution_count": 3,
   "id": "9676501b-5110-405f-819c-5a5a9b573e34",
   "metadata": {},
   "outputs": [
    {
     "name": "stdout",
     "output_type": "stream",
     "text": [
      "Number of components original : 784\n"
     ]
    }
   ],
   "source": [
    "print(f\"Number of components original : {X_train.shape[1]}\")"
   ]
  },
  {
   "cell_type": "code",
   "execution_count": 4,
   "id": "a310465b-2d48-4639-91e0-c90abcaca30f",
   "metadata": {},
   "outputs": [
    {
     "name": "stdout",
     "output_type": "stream",
     "text": [
      "Number of components after PCA: 214\n"
     ]
    }
   ],
   "source": [
    "# Apply PCA to reduce dimensionality (95% explained variance)\n",
    "pca = PCA(n_components=0.97, random_state=42)\n",
    "X_train_pca = pca.fit_transform(X_train)\n",
    "X_test_pca = pca.transform(X_test)\n",
    "print(f\"Number of components after PCA: {X_train_pca.shape[1]}\")"
   ]
  },
  {
   "cell_type": "code",
   "execution_count": 5,
   "id": "2e32996b-0bdd-4d69-95a9-a40136e57f55",
   "metadata": {},
   "outputs": [
    {
     "name": "stdout",
     "output_type": "stream",
     "text": [
      "Training time with PCA: 22.747 seconds\n",
      "Accuracy on test set (PCA): 94.45%\n"
     ]
    }
   ],
   "source": [
    "# Train the Random Forest classifier on the reduced dataset and time it\n",
    "start_time = time.time()\n",
    "rf_pca = RandomForestClassifier(n_jobs=-1, random_state=42)\n",
    "rf_pca.fit(X_train_pca, y_train)\n",
    "train_time_pca = time.time() - start_time\n",
    "y_pred_pca = rf_pca.predict(X_test_pca)\n",
    "pca_accuracy = accuracy_score(y_test, y_pred_pca)\n",
    "\n",
    "print(f\"Training time with PCA: {train_time_pca:.3f} seconds\")\n",
    "print(f\"Accuracy on test set (PCA): {pca_accuracy * 100:.2f}%\")"
   ]
  },
  {
   "cell_type": "code",
   "execution_count": 12,
   "id": "87f8e6b7-23c7-4fe2-a43e-0e0de6a5b836",
   "metadata": {},
   "outputs": [
    {
     "name": "stdout",
     "output_type": "stream",
     "text": [
      "[dtype('int64')]\n"
     ]
    }
   ],
   "source": [
    "print(X_train.dtypes.unique())  # Shows unique data types used in the DataFrame"
   ]
  },
  {
   "cell_type": "code",
   "execution_count": 14,
   "id": "dd9777e3-ebf0-43e1-b686-28eda4131ffc",
   "metadata": {},
   "outputs": [
    {
     "name": "stdout",
     "output_type": "stream",
     "text": [
      "Original X_train dtype: int64\n",
      "PCA X_train_pca dtype: float64\n"
     ]
    }
   ],
   "source": [
    "print(\"Original X_train dtype:\", X_train.to_numpy().dtype)\n",
    "print(\"PCA X_train_pca dtype:\", X_train_pca.dtype)\n"
   ]
  },
  {
   "cell_type": "code",
   "execution_count": null,
   "id": "1e804ac1-332a-4f5c-8162-6209ea64c707",
   "metadata": {},
   "outputs": [],
   "source": []
  }
 ],
 "metadata": {
  "kernelspec": {
   "display_name": "Python 3 (ipykernel)",
   "language": "python",
   "name": "python3"
  },
  "language_info": {
   "codemirror_mode": {
    "name": "ipython",
    "version": 3
   },
   "file_extension": ".py",
   "mimetype": "text/x-python",
   "name": "python",
   "nbconvert_exporter": "python",
   "pygments_lexer": "ipython3",
   "version": "3.12.10"
  }
 },
 "nbformat": 4,
 "nbformat_minor": 5
}
